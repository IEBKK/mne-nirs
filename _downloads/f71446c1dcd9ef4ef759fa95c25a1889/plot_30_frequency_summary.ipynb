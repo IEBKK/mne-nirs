{
  "cells": [
    {
      "cell_type": "code",
      "execution_count": null,
      "metadata": {
        "collapsed": false
      },
      "outputs": [],
      "source": [
        "%matplotlib inline"
      ]
    },
    {
      "cell_type": "markdown",
      "metadata": {},
      "source": [
        "\n\nNIRS Frequency and Filter Commentary\n====================================\n\nIn this example we discuss frequency and filters in the context\nof NIRS analysis.\nWe examine the interplay between the expected brain response based\non experimental design and our model of how the brain reacts to stimuli:,\nthe actual data measured during an experiment, and the filtering\nthat is applied to the data.\n   :depth: 2\n"
      ]
    },
    {
      "cell_type": "code",
      "execution_count": null,
      "metadata": {
        "collapsed": false
      },
      "outputs": [],
      "source": [
        "# Authors: Robert Luke <mail@robertluke.net>\n#\n# License: BSD (3-clause)\n\nimport os\nimport mne\nimport numpy as np\nimport matplotlib.pyplot as plt\nfrom mne_nirs.experimental_design import create_first_level_design_matrix"
      ]
    },
    {
      "cell_type": "markdown",
      "metadata": {},
      "source": [
        "Import and preprocess data\n--------------------------\n\nThis code is similar to the first sections in the MNE tutorial,\nso will not be described in detail here.\nWe read in the data, annotate the triggers, remove the control condition,\nconvert to haemoglobin concentration. See\nhttps://mne.tools/dev/auto_tutorials/preprocessing/plot_70_fnirs_processing.html#\n\n"
      ]
    },
    {
      "cell_type": "code",
      "execution_count": null,
      "metadata": {
        "collapsed": false
      },
      "outputs": [],
      "source": [
        "fnirs_data_folder = mne.datasets.fnirs_motor.data_path()\nfnirs_raw_dir = os.path.join(fnirs_data_folder, 'Participant-1')\nraw_intensity = mne.io.read_raw_nirx(fnirs_raw_dir,\n                                     verbose=True).load_data()\nnew_des = [des for des in raw_intensity.annotations.description]\nnew_des = ['Control' if x == \"1.0\" else x for x in new_des]\nnew_des = ['Tapping/Left' if x == \"2.0\" else x for x in new_des]\nnew_des = ['Tapping/Right' if x == \"3.0\" else x for x in new_des]\nannot = mne.Annotations(raw_intensity.annotations.onset,\n                        raw_intensity.annotations.duration * 5., new_des)\nraw_intensity.set_annotations(annot)\nraw_intensity.annotations.crop(60, 2967)\nraw_intensity.annotations.delete(\n    np.where([d == 'Control' for d in raw_intensity.annotations.description]))\n\nraw_od = mne.preprocessing.nirs.optical_density(raw_intensity)\nraw_haemo = mne.preprocessing.nirs.beer_lambert_law(raw_od)"
      ]
    },
    {
      "cell_type": "markdown",
      "metadata": {},
      "source": [
        "Extract expected HRF from data\n------------------------------\n\nFirst we extract the expected HRF function from\nthe data. See `_tut-fnirs-hrf` for more details on this analysis.\n\n"
      ]
    },
    {
      "cell_type": "code",
      "execution_count": null,
      "metadata": {
        "collapsed": false
      },
      "outputs": [],
      "source": [
        "design_matrix = create_first_level_design_matrix(raw_haemo, drift_order=0)\n\n# This is a bit of a hack.\n# Overwrite the first NIRS channel with the expected response.\n# Rescale to be in expected units of uM.\nhrf = raw_haemo.copy().pick(picks=[0])\nhrf._data[0] = 1e-6 * (design_matrix['Tapping/Left'] +\n                       design_matrix['Tapping/Right']).T\n\nfig = hrf.pick(picks='hbo').plot_psd(average=True, fmax=2,\n                                     color='r', show=False)"
      ]
    },
    {
      "cell_type": "markdown",
      "metadata": {},
      "source": [
        "Plot raw measured data\n----------------------\n\nNext we plot the PSD of the raw data.\nHere we rescale the data to fit in the figure.\n\nTODO: Find a nice way to show this data with correct scale, perhaps a left\ny axis scale.\n\n"
      ]
    },
    {
      "cell_type": "code",
      "execution_count": null,
      "metadata": {
        "collapsed": false
      },
      "outputs": [],
      "source": [
        "raw_haemo._data = raw_haemo._data * 1e-2\nfig = raw_haemo.pick(picks='hbo').plot_psd(average=True, fmax=2,\n                                           ax=fig.axes, show=False)"
      ]
    },
    {
      "cell_type": "markdown",
      "metadata": {},
      "source": [
        "Plot epoched data\n-----------------\n\nNext we plot the PSD of the epoched data.\n\n"
      ]
    },
    {
      "cell_type": "code",
      "execution_count": null,
      "metadata": {
        "collapsed": false
      },
      "outputs": [],
      "source": [
        "events, _ = mne.events_from_annotations(raw_haemo)\nevent_dict = {'Tapping/Left': 1, 'Tapping/Right': 2}\nreject_criteria = dict(hbo=120e-6)\ntmin, tmax = -5, 15\nepochs = mne.Epochs(raw_haemo, events, event_id=event_dict,\n                    tmin=tmin, tmax=tmax,\n                    reject=reject_criteria, reject_by_annotation=True,\n                    proj=True, baseline=(None, 0), preload=True,\n                    detrend=None, verbose=True)\nfig = epochs.pick(picks='hbo').plot_psd(average=True, fmax=2, ax=fig.axes,\n                                        show=False, color='g')"
      ]
    },
    {
      "cell_type": "markdown",
      "metadata": {},
      "source": [
        "Plot filter response\n--------------------\n\nNext we plot the filter response.\n\n"
      ]
    },
    {
      "cell_type": "code",
      "execution_count": null,
      "metadata": {
        "collapsed": false
      },
      "outputs": [],
      "source": [
        "filter_params = mne.filter.create_filter(\n    raw_haemo.get_data(), raw_haemo.info['sfreq'],\n    l_freq=0.01, h_freq=0.4,\n    h_trans_bandwidth=0.2, l_trans_bandwidth=0.005)\nfig = mne.viz.plot_filter(filter_params, raw_haemo.info['sfreq'],\n                          flim=(0.005, 2), fscale='log', gain=False,\n                          plot='magnitude', axes=fig.axes, show=False)"
      ]
    },
    {
      "cell_type": "markdown",
      "metadata": {},
      "source": [
        "Discussion\n----------\n\nNext we plot the filter response.\n\n"
      ]
    },
    {
      "cell_type": "code",
      "execution_count": null,
      "metadata": {
        "collapsed": false
      },
      "outputs": [],
      "source": [
        "leg_lines = [line for line in fig.axes[0].lines if line.get_linestyle() == '-']\nfig.legend(leg_lines, ['Theoretical HRF', 'Measured Data',\n                       'Epoched Data', 'Filter Response'])\nfig.axes[0].set_ylabel('Filter Magnitude (dB) [invalid for other lines]')\nfig.axes[0].set_title('')\n\nplt.show()"
      ]
    }
  ],
  "metadata": {
    "kernelspec": {
      "display_name": "Python 3",
      "language": "python",
      "name": "python3"
    },
    "language_info": {
      "codemirror_mode": {
        "name": "ipython",
        "version": 3
      },
      "file_extension": ".py",
      "mimetype": "text/x-python",
      "name": "python",
      "nbconvert_exporter": "python",
      "pygments_lexer": "ipython3",
      "version": "3.8.2"
    }
  },
  "nbformat": 4,
  "nbformat_minor": 0
}