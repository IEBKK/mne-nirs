{
  "cells": [
    {
      "cell_type": "code",
      "execution_count": null,
      "metadata": {
        "collapsed": false
      },
      "outputs": [],
      "source": [
        "%matplotlib inline"
      ]
    },
    {
      "cell_type": "markdown",
      "metadata": {},
      "source": [
        "\n\nGLM Analysis (Measured Data)\n============================\n\nThis document is a work in progress.\nIt is a first attempt to add GLM analysis to MNE processing of NIRS data.\n\nThis is basically a wrapper over the excellent Nilearn stats.\nhttps://github.com/nilearn/nilearn/tree/master/nilearn/stats .\n\nCurrently the analysis is only being run on the first third of the measurement\nto meet github actions memory constraints.\nThis means the results are noisier than the MNE fnirs tutorial.\n\n\n<div class=\"alert alert-danger\"><h4>Warning</h4><p>This is a work in progress. Suggestions of improvements are\n      appreciated. I am finalising the code, then will fix the text.</p></div>\n   :depth: 2\n"
      ]
    },
    {
      "cell_type": "code",
      "execution_count": null,
      "metadata": {
        "collapsed": false
      },
      "outputs": [],
      "source": [
        "# Authors: Robert Luke <mail@robertluke.net>\n#\n# License: BSD (3-clause)\n\nimport os\nimport matplotlib.pyplot as plt\nimport mne\nimport mne_nirs\nimport numpy as np\n\nfrom mne_nirs.experimental_design import make_first_level_design_matrix\nfrom mne_nirs.statistics import run_GLM\nfrom mne_nirs.visualisation import plot_GLM_topo\n\nfrom nilearn.reporting import plot_design_matrix\nfrom mne_nirs.utils._io import _GLM_to_tidy_long, _tidy_long_to_wide"
      ]
    },
    {
      "cell_type": "markdown",
      "metadata": {},
      "source": [
        "Import raw NIRS data\n--------------------\n\nImport the motor tapping data also used in MNE tutorial.\nResample to meet github memory constraints.\n\n"
      ]
    },
    {
      "cell_type": "code",
      "execution_count": null,
      "metadata": {
        "collapsed": false
      },
      "outputs": [],
      "source": [
        "fnirs_data_folder = mne.datasets.fnirs_motor.data_path()\nfnirs_raw_dir = os.path.join(fnirs_data_folder, 'Participant-1')\nraw_intensity = mne.io.read_raw_nirx(fnirs_raw_dir,\n                                     verbose=True).load_data()\nraw_intensity.resample(1.0)"
      ]
    },
    {
      "cell_type": "markdown",
      "metadata": {},
      "source": [
        "Clean up annotations before analysis\n------------------------------------\n\nHere I update the annotation names and remove annotations that indicated\nthe experiment began and finished.\n\n"
      ]
    },
    {
      "cell_type": "code",
      "execution_count": null,
      "metadata": {
        "collapsed": false
      },
      "outputs": [],
      "source": [
        "new_des = [des for des in raw_intensity.annotations.description]\nnew_des = ['Control' if x == \"1.0\" else x for x in new_des]\nnew_des = ['Tapping/Left' if x == \"2.0\" else x for x in new_des]\nnew_des = ['Tapping/Right' if x == \"3.0\" else x for x in new_des]\nannot = mne.Annotations(raw_intensity.annotations.onset,\n                        raw_intensity.annotations.duration, new_des)\nraw_intensity.set_annotations(annot)\nraw_intensity.annotations.crop(35, 2967)"
      ]
    },
    {
      "cell_type": "markdown",
      "metadata": {},
      "source": [
        "Preprocess NIRS data\n--------------------\n\nConvert the raw data to haemoglobin concentration and keep just long\nchannels which should contain neural responses.\n\n"
      ]
    },
    {
      "cell_type": "code",
      "execution_count": null,
      "metadata": {
        "collapsed": false
      },
      "outputs": [],
      "source": [
        "raw_od = mne.preprocessing.nirs.optical_density(raw_intensity)\nraw_haemo = mne.preprocessing.nirs.beer_lambert_law(raw_od)\n\nshort_chans = mne_nirs.utils.get_short_channels(raw_haemo)\nraw_haemo = mne_nirs.utils.get_long_channels(raw_haemo)"
      ]
    },
    {
      "cell_type": "markdown",
      "metadata": {},
      "source": [
        "View experiment events\n----------------------\n\nFirst we view the experiment using MNEs plot events.\n\n"
      ]
    },
    {
      "cell_type": "code",
      "execution_count": null,
      "metadata": {
        "collapsed": false
      },
      "outputs": [],
      "source": [
        "events, _ = mne.events_from_annotations(raw_haemo)\nevent_dict = {'Control': 1, 'Tapping/Left': 2, 'Tapping/Right': 3}\nmne.viz.plot_events(events, event_id=event_dict,\n                    sfreq=raw_haemo.info['sfreq'])"
      ]
    },
    {
      "cell_type": "markdown",
      "metadata": {},
      "source": [
        "Next we view the same information but displayed as a block design.\n\n"
      ]
    },
    {
      "cell_type": "code",
      "execution_count": null,
      "metadata": {
        "collapsed": false
      },
      "outputs": [],
      "source": [
        "s = mne_nirs.experimental_design.create_boxcar(raw_haemo)\nfig, axes = plt.subplots(nrows=1, ncols=1, figsize=(15, 6))\nplt.plot(raw_haemo.times, s, axes=axes)\nplt.legend([\"Control\", \"Left\", \"Right\"], loc=\"upper right\")\nplt.xlabel(\"Time (s)\")"
      ]
    },
    {
      "cell_type": "markdown",
      "metadata": {},
      "source": [
        "Create design matrix\n--------------------\n\nThis analysis specifies the experiment using a design matrix which\nis created and plotted below.\nIn this example we use the standard SPM haemodynamic response function and\ninclude a third order polynomial drift.\n\n"
      ]
    },
    {
      "cell_type": "code",
      "execution_count": null,
      "metadata": {
        "collapsed": false
      },
      "outputs": [],
      "source": [
        "design_matrix = make_first_level_design_matrix(raw_intensity,\n                                               hrf_model='spm', stim_dur=5.0,\n                                               drift_order=3,\n                                               drift_model='polynomial')"
      ]
    },
    {
      "cell_type": "markdown",
      "metadata": {},
      "source": [
        "Next we add the mean of the short channels to the design matrix\nas these channels contain systemic but not neural responses.\n\n"
      ]
    },
    {
      "cell_type": "code",
      "execution_count": null,
      "metadata": {
        "collapsed": false
      },
      "outputs": [],
      "source": [
        "design_matrix[\"ShortHbO\"] = np.mean(short_chans.copy().pick(\n                                    picks=\"hbo\").get_data(), axis=0)\n\ndesign_matrix[\"ShortHbR\"] = np.mean(short_chans.copy().pick(\n                                    picks=\"hbr\").get_data(), axis=0)"
      ]
    },
    {
      "cell_type": "markdown",
      "metadata": {},
      "source": [
        "And we display a summary of the design matrix\nusing standard Nilearn reporting functions.\n\n"
      ]
    },
    {
      "cell_type": "code",
      "execution_count": null,
      "metadata": {
        "collapsed": false
      },
      "outputs": [],
      "source": [
        "fig, ax1 = plt.subplots(figsize=(10, 6), nrows=1, ncols=1)\nfig = plot_design_matrix(design_matrix, ax=ax1)"
      ]
    },
    {
      "cell_type": "markdown",
      "metadata": {},
      "source": [
        "Examine expected response\n-------------------------\n\nWe can also look at a single experimental condition with a boxcar\nfunction representing the stimulus, and the expected neural response.\n\n"
      ]
    },
    {
      "cell_type": "code",
      "execution_count": null,
      "metadata": {
        "collapsed": false
      },
      "outputs": [],
      "source": [
        "s = mne_nirs.experimental_design.create_boxcar(raw_intensity)\nplt.plot(raw_intensity.times, s[:, 1])\nplt.plot(design_matrix['Tapping/Left'])\nplt.xlim(180, 300)\nplt.legend([\"Stimulus\", \"Expected Response\"])\nplt.xlabel(\"Time (s)\")\nplt.ylabel(\"Amplitude\")"
      ]
    },
    {
      "cell_type": "markdown",
      "metadata": {},
      "source": [
        "Fit GLM to estimate response\n----------------------------\n\nWe run a GLM fit for the data and experiment matrix.\nFirst we analyse just the first two channels which correspond HbO and HbR\nof a single source detector pair.\n\n"
      ]
    },
    {
      "cell_type": "code",
      "execution_count": null,
      "metadata": {
        "collapsed": false
      },
      "outputs": [],
      "source": [
        "labels, glm_est = run_GLM(raw_haemo.copy().pick(picks=range(2)), design_matrix)"
      ]
    },
    {
      "cell_type": "markdown",
      "metadata": {},
      "source": [
        "We then display the results. Note that the control condition sits\naround zero.\nAnd that the HbO is positive and larger than the HbR, this is to be expected.\nFurther, we note that for this channel the response to tapping on the\nright hand is larger than the left. And the values are similar to what\nis seen in the epoching tutorial.\n\n"
      ]
    },
    {
      "cell_type": "code",
      "execution_count": null,
      "metadata": {
        "collapsed": false
      },
      "outputs": [],
      "source": [
        "plt.scatter(design_matrix.columns[:3], glm_est[labels[0]].theta[:3] * 1e6)\nplt.scatter(design_matrix.columns[:3], glm_est[labels[1]].theta[:3] * 1e6)\nplt.xlabel(\"Experiment Condition\")\nplt.ylabel(\"Haemoglobin (\u03bcM)\")\nplt.legend([\"Oxyhaemoglobin\", \"Deoxyhaemoglobin\"])\nplt.hlines([0.0], 0, 2)\nplt.show()"
      ]
    },
    {
      "cell_type": "markdown",
      "metadata": {},
      "source": [
        "View GLM results for all sensors\n--------------------------------\n\nLastly we run the GLM analysis on all sensors and plot the result on a\ntoppmap.\nWe see the same result as in the MNE tutorial that activation is largest\ncontralateral to the tapping side. Also note that HbR tends to be the\nnegative sof HbO as expected.\n\n"
      ]
    },
    {
      "cell_type": "code",
      "execution_count": null,
      "metadata": {
        "collapsed": false
      },
      "outputs": [],
      "source": [
        "labels, glm_est = run_GLM(raw_haemo, design_matrix)\nplot_GLM_topo(raw_haemo, labels, glm_est, design_matrix,\n              requested_conditions=['Tapping/Left', 'Tapping/Right'])"
      ]
    },
    {
      "cell_type": "markdown",
      "metadata": {},
      "source": [
        "Export Results\n---------------\n\n<div class=\"alert alert-danger\"><h4>Warning</h4><p>The functions used in this section are in development, and are highly\n      likely to change. These functions are marked with an underscore (_)\n      at the start of their name to indicate they are not public functions\n      and have no promise they will be here next week.</p></div>\n\n"
      ]
    },
    {
      "cell_type": "code",
      "execution_count": null,
      "metadata": {
        "collapsed": false
      },
      "outputs": [],
      "source": [
        "df = _GLM_to_tidy_long(raw_haemo, labels, glm_est, design_matrix)\ndf = _tidy_long_to_wide(df)"
      ]
    },
    {
      "cell_type": "markdown",
      "metadata": {},
      "source": [
        "Determine true and false positive rates\n---------------------------------------\n\nWe can query the exported data frames to determine the true and false\npositive rates. Note: optodes cover a greater region than just the\nmotor cortex, so we dont expect 100% of channels to detect responses to\nthe tapping, but we do expect 5% or less for the false positive rate.\n\n"
      ]
    },
    {
      "cell_type": "code",
      "execution_count": null,
      "metadata": {
        "collapsed": false
      },
      "outputs": [],
      "source": [
        "fp_rate = np.sum(df.query(\"condition in ['Control']\")[\"Significant\"]) / \\\n    len((df.query(\"condition in ['Control']\")[\"Significant\"]))\n\ntp_left_rate = np.sum(\n    df.query(\"condition in ['Tapping/Left']\")[\"Significant\"]) / \\\n    len((df.query(\"condition in ['Tapping/Left']\")[\"Significant\"]))\n\ntp_right_rate = np.sum(\n    df.query(\"condition in ['Tapping/Right']\")[\"Significant\"]) / \\\n    len((df.query(\"condition in ['Tapping/Right']\")[\"Significant\"]))\n\nprint(\"False positive rate:\", 100. * fp_rate, \"(%)\")\nprint(\"True positive rate (left):\", 100. * tp_left_rate, \"(%)\")\nprint(\"True positive rate (right):\", 100. * tp_right_rate, \"(%)\")"
      ]
    }
  ],
  "metadata": {
    "kernelspec": {
      "display_name": "Python 3",
      "language": "python",
      "name": "python3"
    },
    "language_info": {
      "codemirror_mode": {
        "name": "ipython",
        "version": 3
      },
      "file_extension": ".py",
      "mimetype": "text/x-python",
      "name": "python",
      "nbconvert_exporter": "python",
      "pygments_lexer": "ipython3",
      "version": "3.8.2"
    }
  },
  "nbformat": 4,
  "nbformat_minor": 0
}