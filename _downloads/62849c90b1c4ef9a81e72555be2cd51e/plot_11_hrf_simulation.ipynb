{
  "cells": [
    {
      "cell_type": "code",
      "execution_count": null,
      "metadata": {
        "collapsed": false
      },
      "outputs": [],
      "source": [
        "%matplotlib inline"
      ]
    },
    {
      "cell_type": "markdown",
      "metadata": {},
      "source": [
        "\n\nGLM Analysis (Simulated Data)\n=============================\n\nIn this example we simulate a block design NIRS experiment and analyse\nthe simulated signal. We investigate the effect additive noise and\nmeasurement length has on response amplitude estimates.\n\n<div class=\"alert alert-danger\"><h4>Warning</h4><p>This is a work in progress. Suggestions of improvements are\n      appreciated. I am finalising the code, then will fix the text.</p></div>\n   :depth: 2\n"
      ]
    },
    {
      "cell_type": "code",
      "execution_count": null,
      "metadata": {
        "collapsed": false
      },
      "outputs": [],
      "source": [
        "# Authors: Robert Luke <mail@robertluke.net>\n#\n# License: BSD (3-clause)\n\nimport mne\nimport mne_nirs\nimport matplotlib.pylab as plt\nimport numpy as np\nfrom mne_nirs.experimental_design import make_first_level_design_matrix\nfrom mne_nirs.statistics import run_GLM\nfrom nilearn.reporting import plot_design_matrix\nimport seaborn as sns\nnp.random.seed(1)"
      ]
    },
    {
      "cell_type": "markdown",
      "metadata": {},
      "source": [
        "Simulate noise free NIRS data\n-----------------------------\n\nFirst we simulate some noise free data. We simulate 5 minutes of data with a\nblock design. The inter stimulus interval of the stimuli is uniformly\nselected between 15 and 45 seconds.\nThe amplitude of the simulated signal is 4 uMol and the sample rate is 3 Hz.\nThe simulated signal is plotted below.\n\n"
      ]
    },
    {
      "cell_type": "code",
      "execution_count": null,
      "metadata": {
        "collapsed": false
      },
      "outputs": [],
      "source": [
        "sfreq = 3.\namp = 4.\n\nraw = mne_nirs.simulation.simulate_nirs_raw(\n    sfreq=sfreq, sig_dur=60 * 5, amplitude=amp, isi_min=15., isi_max=45.)\nraw.plot(duration=600, show_scrollbars=False)"
      ]
    },
    {
      "cell_type": "markdown",
      "metadata": {},
      "source": [
        "Create design matrix\n------------------------------------\n\nNext we create a design matrix based on the annotation times in the simulated\ndata. We use the nilearn plotting function to visualise the design matrix.\nFor more details on this procedure see `tut-fnirs-hrf`.\n\n"
      ]
    },
    {
      "cell_type": "code",
      "execution_count": null,
      "metadata": {
        "collapsed": false
      },
      "outputs": [],
      "source": [
        "design_matrix = make_first_level_design_matrix(raw, stim_dur=5.0,\n                                               drift_order=1,\n                                               drift_model='polynomial')\nfig, ax1 = plt.subplots(figsize=(10, 6), nrows=1, ncols=1)\nfig = plot_design_matrix(design_matrix, ax=ax1)"
      ]
    },
    {
      "cell_type": "markdown",
      "metadata": {},
      "source": [
        "Estimate response on clean data\n-------------------------------\n\nWe can run the GLM analysis on the clean data.\nThe design matrix had three columns, so we get an estimate for our simulated\nevent, the first order drift, and the constant.\nWe see that the estimate of the first component is 4e-6 (4 uM),\nwhich was the amplitude we used in the simulation.\nWe also see that the mean square error of the model fit is close to zero.\n\n"
      ]
    },
    {
      "cell_type": "code",
      "execution_count": null,
      "metadata": {
        "collapsed": false
      },
      "outputs": [],
      "source": [
        "labels, glm_est = run_GLM(raw, design_matrix)\n\nprint(\"Estimate:\", glm_est[labels[0]].theta[0],\n      \"  MSE:\", glm_est[labels[0]].MSE)"
      ]
    },
    {
      "cell_type": "markdown",
      "metadata": {},
      "source": [
        "Simulate noisy NIRS data (white)\n--------------------------------\n\nReal data has noise. Here we add white noise, this noise is not realistic\nbut serves as a reference point for evaluating the estimation process.\nWe run the GLM analysis exactly as in the previous section\nand plot the noisy data and the GLM fitted model.\nThe model estimate of the amplitude is reported reported\nalong with the mean square error of the fit, which matches closely to the\nnoise we added.\n\n"
      ]
    },
    {
      "cell_type": "code",
      "execution_count": null,
      "metadata": {
        "collapsed": false
      },
      "outputs": [],
      "source": [
        "# First take a copy of noise free data for comparison\nraw_noise_free = raw.copy()\n\nraw._data += np.random.normal(0, np.sqrt(1e-11), raw._data.shape)\nlabels, glm_est = run_GLM(raw, design_matrix)\n\nplt.plot(raw.times, raw_noise_free.get_data().T)\nplt.plot(raw.times, raw.get_data().T, alpha=0.3)\nplt.plot(raw.times, glm_est[labels[0]].theta[0] * design_matrix[\"A\"].values)\nplt.xlabel(\"Time (s)\")\nplt.legend([\"Clean Data\", \"Noisy Data\", \"GLM Estimate\"])\n\nprint(\"Estimate:\", glm_est[labels[0]].theta[0],\n      \"  MSE:\", glm_est[labels[0]].MSE)"
      ]
    },
    {
      "cell_type": "markdown",
      "metadata": {},
      "source": [
        "Simulate noisy NIRS data (colored)\n----------------------------------\n\nHere we add colored noise which better matches what is seen with real data.\nAgain, the same GLM procedure is run.\nThe estimate is reported below, and even though the signal was difficuly to\nobserve in the raw data, the GLM analysis has extracted an accurate estimate.\n\n"
      ]
    },
    {
      "cell_type": "code",
      "execution_count": null,
      "metadata": {
        "collapsed": false
      },
      "outputs": [],
      "source": [
        "raw = raw_noise_free.copy()\ncov = mne.Covariance(np.ones(1) * 1e-11, raw.ch_names,\n                     raw.info['bads'], raw.info['projs'], nfree=0)\nraw = mne.simulation.add_noise(raw, cov,\n                               iir_filter=[1., -0.58853134, -0.29575669,\n                                           -0.52246482, 0.38735476,\n                                           0.02428681])\nlabels, glm_est = run_GLM(raw, design_matrix)\n\nplt.plot(raw.times, raw_noise_free.get_data().T)\nplt.plot(raw.times, raw.get_data().T, alpha=0.3)\nplt.plot(raw.times, glm_est[labels[0]].theta[0] * design_matrix[\"A\"].values)\nplt.xlabel(\"Time (s)\")\nplt.legend([\"Clean Data\", \"Noisy Data\", \"GLM Estimate\"])\n\nprint(\"Estimate:\", glm_est[labels[0]].theta[0],\n      \"  MSE:\", glm_est[labels[0]].MSE)"
      ]
    },
    {
      "cell_type": "markdown",
      "metadata": {},
      "source": [
        "How does estimate error vary with added noise?\n----------------------------------------------\n\nNow we can vary the amount of noise added and observe how this affects\nthe amplitude estimate.\nHere we observe that as the noise is increased the estimate error increases.\n\n"
      ]
    },
    {
      "cell_type": "code",
      "execution_count": null,
      "metadata": {
        "collapsed": false
      },
      "outputs": [],
      "source": [
        "noise_std = []\nerror = []\n\nfor std in np.arange(1, 10):\n    for repeat in range(5):\n        raw = mne_nirs.simulation.simulate_nirs_raw(\n            sfreq=sfreq, sig_dur=60 * 10, amplitude=amp)\n        raw._data += np.random.randn(raw._data.shape[1]) * 1.e-6 * std\n\n        design_matrix = make_first_level_design_matrix(\n            raw, stim_dur=5.0, drift_order=1, drift_model='polynomial')\n\n        labels, glm_estimates = run_GLM(raw, design_matrix)\n\n        noise_std.append(np.std(raw._data))\n        error_abs = glm_estimates[labels[0]].theta[0] - amp * 1.e-6\n        error_percentage = error_abs / (amp * 1.e-6)\n        error.append(error_percentage * 100)\n\nsns.scatterplot(noise_std, error)\nplt.xlabel(\"Std of signal + noise\")\nplt.ylabel(\"Estimate error (%)\")\nplt.ylim(-30, 30)\nplt.hlines(np.mean(error), 0.1e-5, 1e-5, linestyles='dashed')\nplt.vlines(3.e-6, -100, 100, linestyles='dashed')"
      ]
    }
  ],
  "metadata": {
    "kernelspec": {
      "display_name": "Python 3",
      "language": "python",
      "name": "python3"
    },
    "language_info": {
      "codemirror_mode": {
        "name": "ipython",
        "version": 3
      },
      "file_extension": ".py",
      "mimetype": "text/x-python",
      "name": "python",
      "nbconvert_exporter": "python",
      "pygments_lexer": "ipython3",
      "version": "3.8.2"
    }
  },
  "nbformat": 4,
  "nbformat_minor": 0
}