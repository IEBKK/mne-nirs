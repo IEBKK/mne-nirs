{
  "cells": [
    {
      "cell_type": "code",
      "execution_count": null,
      "metadata": {
        "collapsed": false
      },
      "outputs": [],
      "source": [
        "%matplotlib inline"
      ]
    },
    {
      "cell_type": "markdown",
      "metadata": {},
      "source": [
        "\n\nPlot experiment expected haemodynamic response\n==============================================\n   :depth: 2\n"
      ]
    },
    {
      "cell_type": "code",
      "execution_count": null,
      "metadata": {
        "collapsed": false
      },
      "outputs": [],
      "source": [
        "import os\n\nimport matplotlib.pyplot as plt\n\nimport mne\nimport mne_nirs\n\nfnirs_data_folder = mne.datasets.fnirs_motor.data_path()\nfnirs_raw_dir = os.path.join(fnirs_data_folder, 'Participant-1')\nraw_intensity = mne.io.read_raw_nirx(fnirs_raw_dir, verbose=True).load_data()"
      ]
    },
    {
      "cell_type": "markdown",
      "metadata": {},
      "source": [
        "Selecting channels appropriate for detecting neural responses\n-------------------------------------------------------------\n\nFirst we remove channels that are too close together (short channels) to\ndetect a neural response (less than 1 cm distance between optodes).\nTo achieve this we pick all the channels that are not considered to be short.\n\n"
      ]
    },
    {
      "cell_type": "code",
      "execution_count": null,
      "metadata": {
        "collapsed": false
      },
      "outputs": [],
      "source": [
        "picks = mne.pick_types(raw_intensity.info, meg=False, fnirs=True)\ndists = mne.preprocessing.nirs.source_detector_distances(\n    raw_intensity.info, picks=picks)\nraw_intensity.pick(picks[dists > 0.01])\nraw_od = mne.preprocessing.nirs.optical_density(raw_intensity)\nraw_haemo = mne.preprocessing.nirs.beer_lambert_law(raw_od)\nraw_haemo = raw_haemo.filter(0.05, 0.7, h_trans_bandwidth=0.2,\n                             l_trans_bandwidth=0.02)"
      ]
    },
    {
      "cell_type": "markdown",
      "metadata": {},
      "source": [
        "Extract epochs\n--------------\n\nNow that the signal has been converted to relative haemoglobin concentration,\nand the unwanted heart rate component has been removed, we can extract epochs\nrelated to each of the experimental conditions.\n\nFirst we extract the events of interest and visualise them to ensure they are\ncorrect.\n\n"
      ]
    },
    {
      "cell_type": "code",
      "execution_count": null,
      "metadata": {
        "collapsed": false
      },
      "outputs": [],
      "source": [
        "events, _ = mne.events_from_annotations(raw_haemo, event_id={'1.0': 1,\n                                                             '2.0': 2,\n                                                             '3.0': 3})\nevent_dict = {'Control': 1, 'Tapping/Left': 2, 'Tapping/Right': 3}"
      ]
    },
    {
      "cell_type": "markdown",
      "metadata": {},
      "source": [
        "Next we define the range of our epochs, the rejection criteria,\nbaseline correction, and extract the epochs. We visualise the log of which\nepochs were dropped.\n\n"
      ]
    },
    {
      "cell_type": "code",
      "execution_count": null,
      "metadata": {
        "collapsed": false
      },
      "outputs": [],
      "source": [
        "reject_criteria = dict(hbo=80e-6)\ntmin, tmax = -5, 15\n\nepochs = mne.Epochs(raw_haemo, events, event_id=event_dict,\n                    tmin=tmin, tmax=tmax,\n                    reject=reject_criteria, reject_by_annotation=True,\n                    proj=True, baseline=(None, 0), preload=True,\n                    detrend=None, verbose=True)\n\nevoked_dict = {'Tapping/HbO': epochs['Tapping'].average(picks='hbo'),\n               'Tapping/HbR': epochs['Tapping'].average(picks='hbr'),\n               'Control/HbO': epochs['Control'].average(picks='hbo'),\n               'Control/HbR': epochs['Control'].average(picks='hbr')}\n\n# Rename channels until the encoding of frequency in ch_name is fixed\nfor condition in evoked_dict:\n    evoked_dict[condition].rename_channels(lambda x: x[:-4])"
      ]
    },
    {
      "cell_type": "markdown",
      "metadata": {},
      "source": [
        "Apply anti correlation\n----------------------------------\n\nApply Cui et. al. 2010\n\n"
      ]
    },
    {
      "cell_type": "code",
      "execution_count": null,
      "metadata": {
        "collapsed": false
      },
      "outputs": [],
      "source": [
        "raw_anti = mne_nirs.signal_enhancement.enhance_negative_correlation(raw_haemo)\n\nepochs_anti = mne.Epochs(raw_anti, events, event_id=event_dict,\n                         tmin=tmin, tmax=tmax,\n                         reject=reject_criteria, reject_by_annotation=True,\n                         proj=True, baseline=(None, 0), preload=True,\n                         detrend=1, verbose=True)\n\nevoked_dict_anti = {'Tapping/HbO': epochs_anti['Tapping'].average(picks='hbo'),\n                    'Tapping/HbR': epochs_anti['Tapping'].average(picks='hbr'),\n                    'Control/HbO': epochs_anti['Control'].average(picks='hbo'),\n                    'Control/HbR': epochs_anti['Control'].average(picks='hbr')}\n\n# Rename channels until the encoding of frequency in ch_name is fixed\nfor condition in evoked_dict_anti:\n    evoked_dict_anti[condition].rename_channels(lambda x: x[:-4])"
      ]
    },
    {
      "cell_type": "markdown",
      "metadata": {},
      "source": [
        "Plot two approaches for comparison\n----------------------------------\n\nPlot figures\n\n"
      ]
    },
    {
      "cell_type": "code",
      "execution_count": null,
      "metadata": {
        "collapsed": false
      },
      "outputs": [],
      "source": [
        "fig, axes = plt.subplots(nrows=1, ncols=2, figsize=(15, 6))\n\ncolor_dict = dict(HbO='#AA3377', HbR='b')\nstyles_dict = dict(Control=dict(linestyle='dashed'))\n\nmne.viz.plot_compare_evokeds(evoked_dict, combine=\"mean\", ci=0.95,\n                             axes=axes[0], colors=color_dict,\n                             styles=styles_dict,\n                             ylim=dict(hbo=[-10, 13]))\n\nmne.viz.plot_compare_evokeds(evoked_dict_anti, combine=\"mean\", ci=0.95,\n                             axes=axes[1], colors=color_dict,\n                             styles=styles_dict,\n                             ylim=dict(hbo=[-10, 13]))\n\nfor column, condition in enumerate(['Original Data', 'Cui Enhanced Data']):\n    axes[column].set_title('{}'.format(condition))"
      ]
    }
  ],
  "metadata": {
    "kernelspec": {
      "display_name": "Python 3",
      "language": "python",
      "name": "python3"
    },
    "language_info": {
      "codemirror_mode": {
        "name": "ipython",
        "version": 3
      },
      "file_extension": ".py",
      "mimetype": "text/x-python",
      "name": "python",
      "nbconvert_exporter": "python",
      "pygments_lexer": "ipython3",
      "version": "3.8.2"
    }
  },
  "nbformat": 4,
  "nbformat_minor": 0
}