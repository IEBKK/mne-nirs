{
  "cells": [
    {
      "cell_type": "code",
      "execution_count": null,
      "metadata": {
        "collapsed": false
      },
      "outputs": [],
      "source": [
        "%matplotlib inline"
      ]
    },
    {
      "cell_type": "markdown",
      "metadata": {},
      "source": [
        "\n\nSignal enhancement techniques\n=============================\n\nIn this document we investigate the effect of different signal enhancement\ntechniques for NIRS data.\n   :depth: 2\n"
      ]
    },
    {
      "cell_type": "code",
      "execution_count": null,
      "metadata": {
        "collapsed": false
      },
      "outputs": [],
      "source": [
        "# Authors: Robert Luke <mail@robertluke.net>\n#\n# License: BSD (3-clause)\n\nimport os\n\nimport matplotlib.pyplot as plt\n\nimport mne\nimport mne_nirs"
      ]
    },
    {
      "cell_type": "markdown",
      "metadata": {},
      "source": [
        "Import and preprocess data\n--------------------------\n\nThis code is exactly the same as the first sections in the MNE tutorial.\n\n"
      ]
    },
    {
      "cell_type": "code",
      "execution_count": null,
      "metadata": {
        "collapsed": false
      },
      "outputs": [],
      "source": [
        "fnirs_data_folder = mne.datasets.fnirs_motor.data_path()\nfnirs_raw_dir = os.path.join(fnirs_data_folder, 'Participant-1')\nraw_intensity = mne.io.read_raw_nirx(fnirs_raw_dir, verbose=True).load_data()\npicks = mne.pick_types(raw_intensity.info, meg=False, fnirs=True)\ndists = mne.preprocessing.nirs.source_detector_distances(\n    raw_intensity.info, picks=picks)\nraw_intensity.pick(picks[dists > 0.01])\nraw_od = mne.preprocessing.nirs.optical_density(raw_intensity)\nraw_haemo = mne.preprocessing.nirs.beer_lambert_law(raw_od)\nraw_haemo = raw_haemo.filter(0.05, 0.7, h_trans_bandwidth=0.2,\n                             l_trans_bandwidth=0.02)\nevents, _ = mne.events_from_annotations(raw_haemo, event_id={'1.0': 1,\n                                                             '2.0': 2,\n                                                             '3.0': 3})\nevent_dict = {'Control': 1, 'Tapping/Left': 2, 'Tapping/Right': 3}"
      ]
    },
    {
      "cell_type": "markdown",
      "metadata": {},
      "source": [
        "Extract epochs with no additional processing\n--------------------------------------------\n\nFirst we extract the epochs with no additional processing\nthis result should be the same as the MNE tutorial.\n\n"
      ]
    },
    {
      "cell_type": "code",
      "execution_count": null,
      "metadata": {
        "collapsed": false
      },
      "outputs": [],
      "source": [
        "reject_criteria = dict(hbo=80e-6)\ntmin, tmax = -5, 15\n\nepochs = mne.Epochs(raw_haemo, events, event_id=event_dict,\n                    tmin=tmin, tmax=tmax,\n                    reject=reject_criteria, reject_by_annotation=True,\n                    proj=True, baseline=(None, 0), preload=True,\n                    detrend=None, verbose=True)\n\nevoked_dict = {'Tapping/HbO': epochs['Tapping'].average(picks='hbo'),\n               'Tapping/HbR': epochs['Tapping'].average(picks='hbr'),\n               'Control/HbO': epochs['Control'].average(picks='hbo'),\n               'Control/HbR': epochs['Control'].average(picks='hbr')}\n\n# Rename channels until the encoding of frequency in ch_name is fixed\nfor condition in evoked_dict:\n    evoked_dict[condition].rename_channels(lambda x: x[:-4])"
      ]
    },
    {
      "cell_type": "markdown",
      "metadata": {},
      "source": [
        "Apply negative correlation enhancment algorithm\n-----------------------------------------------\n\nApply Cui et. al. 2010 and extract epochs.\n\n"
      ]
    },
    {
      "cell_type": "code",
      "execution_count": null,
      "metadata": {
        "collapsed": false
      },
      "outputs": [],
      "source": [
        "raw_anti = mne_nirs.signal_enhancement.enhance_negative_correlation(raw_haemo)\n\nepochs_anti = mne.Epochs(raw_anti, events, event_id=event_dict,\n                         tmin=tmin, tmax=tmax,\n                         reject=reject_criteria, reject_by_annotation=True,\n                         proj=True, baseline=(None, 0), preload=True,\n                         detrend=None, verbose=True)\n\nevoked_dict_anti = {'Tapping/HbO': epochs_anti['Tapping'].average(picks='hbo'),\n                    'Tapping/HbR': epochs_anti['Tapping'].average(picks='hbr'),\n                    'Control/HbO': epochs_anti['Control'].average(picks='hbo'),\n                    'Control/HbR': epochs_anti['Control'].average(picks='hbr')}\n\n# Rename channels until the encoding of frequency in ch_name is fixed\nfor condition in evoked_dict_anti:\n    evoked_dict_anti[condition].rename_channels(lambda x: x[:-4])"
      ]
    },
    {
      "cell_type": "markdown",
      "metadata": {},
      "source": [
        "Plot two approaches for comparison\n----------------------------------\n\nPlot the average epochs with and without Cui 2010 applied.\n\n"
      ]
    },
    {
      "cell_type": "code",
      "execution_count": null,
      "metadata": {
        "collapsed": false
      },
      "outputs": [],
      "source": [
        "fig, axes = plt.subplots(nrows=1, ncols=2, figsize=(15, 6))\n\ncolor_dict = dict(HbO='#AA3377', HbR='b')\nstyles_dict = dict(Control=dict(linestyle='dashed'))\n\nmne.viz.plot_compare_evokeds(evoked_dict, combine=\"mean\", ci=0.95,\n                             axes=axes[0], colors=color_dict,\n                             styles=styles_dict,\n                             ylim=dict(hbo=[-10, 13]))\n\nmne.viz.plot_compare_evokeds(evoked_dict_anti, combine=\"mean\", ci=0.95,\n                             axes=axes[1], colors=color_dict,\n                             styles=styles_dict,\n                             ylim=dict(hbo=[-10, 13]))\n\nfor column, condition in enumerate(['Original Data', 'Cui Enhanced Data']):\n    axes[column].set_title('{}'.format(condition))"
      ]
    }
  ],
  "metadata": {
    "kernelspec": {
      "display_name": "Python 3",
      "language": "python",
      "name": "python3"
    },
    "language_info": {
      "codemirror_mode": {
        "name": "ipython",
        "version": 3
      },
      "file_extension": ".py",
      "mimetype": "text/x-python",
      "name": "python",
      "nbconvert_exporter": "python",
      "pygments_lexer": "ipython3",
      "version": "3.8.2"
    }
  },
  "nbformat": 4,
  "nbformat_minor": 0
}